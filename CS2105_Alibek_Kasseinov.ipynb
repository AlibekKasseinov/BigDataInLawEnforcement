{
 "cells": [
  {
   "cell_type": "markdown",
   "id": "5d848da1",
   "metadata": {},
   "source": [
    "# Big Data in Law Enforcement"
   ]
  },
  {
   "cell_type": "markdown",
   "id": "ed9b7f71",
   "metadata": {},
   "source": [
    "## Introduction\n",
    "### Cyber Security - today, one of the important field in IT sphere. All digital systems such a: Servers, mobile phones or websites needs digital security. You can be ethical hacker(Red hat, blue hat) or cyber criminalist."
   ]
  },
  {
   "cell_type": "markdown",
   "id": "0111bfc4",
   "metadata": {},
   "source": [
    "**Objectives**\n",
    "- Popular languages that Data Scientists use are\n",
    "- Libraries used by Data Scientist\n",
    "- Python mathematic expression\n",
    "- Table of Data Science Tools"
   ]
  },
  {
   "cell_type": "markdown",
   "id": "dfa2a61a",
   "metadata": {},
   "source": [
    "## *Some of the popular languages that Data Scientists use are:*\n",
    "1. Python\n",
    "2. JavaScript\n",
    "3. Java\n",
    "4. C/C++"
   ]
  },
  {
   "cell_type": "markdown",
   "id": "6792dc95",
   "metadata": {},
   "source": [
    "## *Some of the commonly used libraries used by Data Scientist include:*\n",
    "- Matplotlib (Python)\n",
    "- Pandas (Python)\n",
    "- Tensor Flow\n",
    "- NumPy (Python)"
   ]
  },
  {
   "cell_type": "markdown",
   "id": "960a59ab",
   "metadata": {},
   "source": [
    "|Data Science Tools|\n",
    "|------------------|\n",
    "|TensorFlow        |\n",
    "|Jupyter Notebook  |\n",
    "|RStudio           |"
   ]
  },
  {
   "cell_type": "markdown",
   "id": "a239dc82",
   "metadata": {},
   "source": [
    "### Below are a few examples of evaluating arithmetic expressions in Python."
   ]
  },
  {
   "cell_type": "code",
   "execution_count": 2,
   "id": "fd5bff28",
   "metadata": {},
   "outputs": [
    {
     "data": {
      "text/plain": [
       "33"
      ]
     },
     "execution_count": 2,
     "metadata": {},
     "output_type": "execute_result"
    }
   ],
   "source": [
    "(4*6)+9 #This is simple mathematic expression"
   ]
  },
  {
   "cell_type": "code",
   "execution_count": 5,
   "id": "9d965af5",
   "metadata": {},
   "outputs": [
    {
     "data": {
      "text/plain": [
       "5.0"
      ]
     },
     "execution_count": 5,
     "metadata": {},
     "output_type": "execute_result"
    }
   ],
   "source": [
    "300/60 #This will convert 300 minutes to hours by dividing by 60."
   ]
  },
  {
   "cell_type": "markdown",
   "id": "6802a0ee",
   "metadata": {},
   "source": [
    "## Author:\n",
    "## **Alibek**\n"
   ]
  },
  {
   "cell_type": "code",
   "execution_count": null,
   "id": "1769c328",
   "metadata": {},
   "outputs": [],
   "source": []
  }
 ],
 "metadata": {
  "kernelspec": {
   "display_name": "Python 3 (ipykernel)",
   "language": "python",
   "name": "python3"
  },
  "language_info": {
   "codemirror_mode": {
    "name": "ipython",
    "version": 3
   },
   "file_extension": ".py",
   "mimetype": "text/x-python",
   "name": "python",
   "nbconvert_exporter": "python",
   "pygments_lexer": "ipython3",
   "version": "3.9.13"
  }
 },
 "nbformat": 4,
 "nbformat_minor": 5
}
